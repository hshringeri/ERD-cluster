{
 "cells": [],
 "metadata": {
  "kernelspec": {
   "display_name": "Python 3.9.13 ('CS473Project1')",
   "language": "python",
   "name": "python3"
  },
  "language_info": {
   "name": "python",
   "version": "3.9.13"
  },
  "orig_nbformat": 4,
  "vscode": {
   "interpreter": {
    "hash": "ab84b6794aee58a757db6e72fcad95bd61276d0fb97d220903b35244529d8f94"
   }
  }
 },
 "nbformat": 4,
 "nbformat_minor": 2
}
